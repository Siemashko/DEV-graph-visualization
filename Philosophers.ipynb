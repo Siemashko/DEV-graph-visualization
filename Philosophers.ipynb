{
 "cells": [
  {
   "cell_type": "code",
   "execution_count": 59,
   "metadata": {},
   "outputs": [],
   "source": [
    "import json\n",
    "import networkx as nx\n",
    "import random\n",
    "import matplotlib.pyplot as plt\n",
    "import numpy as np\n",
    "import pandas as pd"
   ]
  },
  {
   "cell_type": "code",
   "execution_count": 37,
   "metadata": {},
   "outputs": [],
   "source": [
    "with open(\"philosophers.json\") as file:\n",
    "    philo = json.loads(file.read())\n",
    "file.close()"
   ]
  },
  {
   "cell_type": "code",
   "execution_count": 38,
   "metadata": {},
   "outputs": [
    {
     "data": {
      "text/plain": [
       "dict_keys(['people', 'records', 'links'])"
      ]
     },
     "execution_count": 38,
     "metadata": {},
     "output_type": "execute_result"
    }
   ],
   "source": [
    "philo.keys()"
   ]
  },
  {
   "cell_type": "code",
   "execution_count": 39,
   "metadata": {},
   "outputs": [],
   "source": [
    "people=philo[\"people\"]"
   ]
  },
  {
   "cell_type": "code",
   "execution_count": 40,
   "metadata": {},
   "outputs": [],
   "source": [
    "topic=philo[\"records\"]"
   ]
  },
  {
   "cell_type": "code",
   "execution_count": 41,
   "metadata": {},
   "outputs": [],
   "source": [
    "links=philo[\"links\"]"
   ]
  },
  {
   "cell_type": "code",
   "execution_count": 49,
   "metadata": {},
   "outputs": [],
   "source": [
    "data=philo"
   ]
  },
  {
   "cell_type": "code",
   "execution_count": 60,
   "metadata": {},
   "outputs": [],
   "source": [
    "G = nx.MultiGraph()\n",
    "for link in data['links']:\n",
    "    G.add_edge(data['people'][data['records'][link['l0']]['person']]['name'], data['people'][data['records'][link['l1']]['person']]['name'], key=(data['records'][link['l0']]['line'], data['records'][link['l1']]['line']), label=link['type'])"
   ]
  },
  {
   "cell_type": "code",
   "execution_count": 52,
   "metadata": {},
   "outputs": [
    {
     "data": {
      "text/plain": [
       "{'Thales': 0.27314814814814814,\n",
       " 'Anaximander': 0.21572212065813529,\n",
       " 'Anaximenes': 0.17771084337349397,\n",
       " 'Parmenides': 0.36990595611285265,\n",
       " 'Heraclitus': 0.38562091503267976,\n",
       " 'Empedocles': 0.2706422018348624,\n",
       " 'Leucippus & Democritus': 0.35542168674698793,\n",
       " 'Xenophanes': 0.3722397476340694,\n",
       " 'Socrates': 0.38562091503267976,\n",
       " 'Plato': 0.5108225108225108,\n",
       " 'Pythagoras': 0.3390804597701149,\n",
       " 'Aristotle': 0.5042735042735043,\n",
       " 'Diogenes': 0.3232876712328767,\n",
       " 'Pyrrho': 0.39730639730639733,\n",
       " 'Epicurus': 0.4259927797833935,\n",
       " 'Stoics (Zeno of Citium et al)': 0.4,\n",
       " 'Timon of Phlius': 0.36085626911314983,\n",
       " 'Plotinus': 0.367601246105919,\n",
       " 'Saint Augustine': 0.4796747967479675,\n",
       " 'John Scotus Erigena': 0.3769968051118211,\n",
       " 'Thomas Aquinas': 0.4645669291338583,\n",
       " 'Saint Anselm': 0.39864864864864863,\n",
       " 'William of Ockham': 0.44528301886792454,\n",
       " 'Francis Bacon': 0.4125874125874126,\n",
       " 'Thomas Hobbes': 0.4957983193277311,\n",
       " 'Zeno of Elea': 0.35435435435435436,\n",
       " 'René Descartes': 0.502127659574468,\n",
       " 'Benedict Spinoza': 0.5291479820627802,\n",
       " 'John Locke': 0.5108225108225108,\n",
       " 'Anne Conway': 0.44029850746268656,\n",
       " 'Gottfried Wilhelm Leibniz': 0.48360655737704916,\n",
       " 'George Berkeley': 0.41114982578397213,\n",
       " 'Francis Hutcheson': 0.4306569343065693,\n",
       " 'David Hume': 0.5244444444444445,\n",
       " 'Jean-Jacques Rousseau': 0.45038167938931295,\n",
       " 'Edmund Burke': 0.41114982578397213,\n",
       " 'Immanuel Kant': 0.5488372093023256,\n",
       " 'Jeremy Bentham': 0.4229390681003584,\n",
       " 'Mary Wollstonecraft': 0.4013605442176871,\n",
       " 'Johann Gottlieb Fichte': 0.44360902255639095,\n",
       " 'Friedrich Schelling': 0.43223443223443225,\n",
       " 'Georg Wilhelm Friedrich Hegel': 0.4738955823293173,\n",
       " 'Arthur Schopenhauer': 0.4816326530612245,\n",
       " 'Ludwig Feuerbach': 0.4306569343065693,\n",
       " 'John Stuart Mill': 0.4738955823293173,\n",
       " 'Charles Darwin': 0.47580645161290325,\n",
       " 'Søren Kierkegaard': 0.41114982578397213,\n",
       " 'Karl Marx': 0.4290909090909091,\n",
       " 'Charles Sanders Peirce': 0.4419475655430712,\n",
       " 'William James': 0.36875,\n",
       " 'Friedrich Nietzsche': 0.43223443223443225,\n",
       " 'Gottlob Frege': 0.3933333333333333,\n",
       " 'Sigmund Freud': 0.5130434782608696,\n",
       " 'Ferdinand de Saussure': 0.4645669291338583,\n",
       " 'Edmund Husserl': 0.4068965517241379,\n",
       " 'Henri Bergson': 0.4573643410852713,\n",
       " 'John Dewey': 0.43866171003717475,\n",
       " 'Pierre Duhem': 0.3959731543624161,\n",
       " 'Bertrand Russell': 0.4609375,\n",
       " 'George Edward Moore': 0.4154929577464789,\n",
       " 'Ludwig Wittgenstein': 0.49166666666666664,\n",
       " 'Martin Heidegger': 0.42142857142857143,\n",
       " 'Georges Bataille': 0.40273037542662116,\n",
       " 'Rudolf Carnap': 0.4083044982698962,\n",
       " 'Carl Hempel': 0.36990595611285265,\n",
       " 'Karl Popper': 0.466403162055336,\n",
       " 'Gilbert Ryle': 0.4419475655430712,\n",
       " 'Frank Ramsey': 0.2706422018348624,\n",
       " 'Jacques Lacan': 0.4338235294117647,\n",
       " 'Theodor Adorno': 0.466403162055336,\n",
       " 'Hannah Arendt': 0.46825396825396826,\n",
       " 'Jean-Paul Sartre': 0.37942122186495175,\n",
       " 'Simone de Beauvoir': 0.4169611307420495,\n",
       " 'Albert Camus': 0.3575757575757576,\n",
       " 'Maurice Merleau-Ponty': 0.39072847682119205,\n",
       " 'Alfred Jules Ayer': 0.4419475655430712,\n",
       " 'John Langshaw Austin': 0.4354243542435424,\n",
       " 'Willard Van Orman Quine': 0.4591439688715953,\n",
       " 'William Frankena': 0.39864864864864863,\n",
       " 'Wilfred Sellars': 0.41843971631205673,\n",
       " 'Sir Peter Strawson': 0.44360902255639095,\n",
       " 'Paul Grice': 0.3480825958702065,\n",
       " 'Elizabeth Anscombe': 0.39730639730639733,\n",
       " 'Peter Winch': 0.3818770226537217,\n",
       " 'Donald Davidson': 0.45384615384615384,\n",
       " 'Abraham Irving Melden': 0.3630769230769231,\n",
       " 'John Mackie': 0.3818770226537217,\n",
       " 'Richard Hare': 0.44696969696969696,\n",
       " 'Philippa Foot': 0.30971128608923887,\n",
       " 'John Rawls': 0.4259927797833935,\n",
       " 'Thomas Kuhn': 0.42142857142857143,\n",
       " 'Paul Feyerabend': 0.36990595611285265,\n",
       " 'Michel Foucault': 0.4083044982698962,\n",
       " 'Jean-François Lyotard': 0.4573643410852713,\n",
       " 'Michael Dummett': 0.39072847682119205,\n",
       " 'Hilary Putnam': 0.44866920152091255,\n",
       " 'Bernard Williams': 0.44029850746268656,\n",
       " 'Jean Baudrillard': 0.4199288256227758,\n",
       " 'Harry Frankfurt': 0.35542168674698793,\n",
       " 'Jacques Derrida': 0.3881578947368421,\n",
       " 'Richard Rorty': 0.4154929577464789,\n",
       " 'Luce Irigaray': 0.41114982578397213,\n",
       " 'John Searle': 0.41843971631205673,\n",
       " 'Jerry Fodor': 0.4,\n",
       " 'Thomas Nagel': 0.4097222222222222,\n",
       " 'Sandra Harding': 0.3522388059701492,\n",
       " 'Carol Gilligan': 0.3630769230769231,\n",
       " 'Robert Nozick': 0.39730639730639733,\n",
       " 'Saul Kripke': 0.3920265780730897,\n",
       " 'Frank Jackson': 0.36645962732919257,\n",
       " 'David Lewis': 0.427536231884058,\n",
       " 'John McDowell': 0.4125874125874126,\n",
       " 'Richard Boyd': 0.38436482084690554,\n",
       " 'Tim Scanlon': 0.3532934131736527,\n",
       " 'Richard Dawkins': 0.38943894389438943,\n",
       " 'Daniel Dennett': 0.5130434782608696,\n",
       " 'Simon Blackburn': 0.3564954682779456,\n",
       " 'Judith Butler': 0.40273037542662116,\n",
       " 'David Chalmers': 0.44360902255639095}"
      ]
     },
     "execution_count": 52,
     "metadata": {},
     "output_type": "execute_result"
    }
   ],
   "source": [
    "nx.closeness_centrality(G)"
   ]
  },
  {
   "cell_type": "code",
   "execution_count": 54,
   "metadata": {},
   "outputs": [
    {
     "data": {
      "text/plain": [
       "{'Thales': 0.01694915254237288,\n",
       " 'Anaximander': 0.01694915254237288,\n",
       " 'Anaximenes': 0.00847457627118644,\n",
       " 'Parmenides': 0.05084745762711865,\n",
       " 'Heraclitus': 0.0423728813559322,\n",
       " 'Empedocles': 0.00847457627118644,\n",
       " 'Leucippus & Democritus': 0.03389830508474576,\n",
       " 'Xenophanes': 0.0423728813559322,\n",
       " 'Socrates': 0.1016949152542373,\n",
       " 'Plato': 0.4491525423728814,\n",
       " 'Pythagoras': 0.01694915254237288,\n",
       " 'Aristotle': 0.2542372881355932,\n",
       " 'Diogenes': 0.01694915254237288,\n",
       " 'Pyrrho': 0.05084745762711865,\n",
       " 'Epicurus': 0.1440677966101695,\n",
       " 'Stoics (Zeno of Citium et al)': 0.0847457627118644,\n",
       " 'Timon of Phlius': 0.025423728813559324,\n",
       " 'Plotinus': 0.0423728813559322,\n",
       " 'Saint Augustine': 0.211864406779661,\n",
       " 'John Scotus Erigena': 0.03389830508474576,\n",
       " 'Thomas Aquinas': 0.1440677966101695,\n",
       " 'Saint Anselm': 0.03389830508474576,\n",
       " 'William of Ockham': 0.13559322033898305,\n",
       " 'Francis Bacon': 0.06779661016949153,\n",
       " 'Thomas Hobbes': 0.2796610169491525,\n",
       " 'Zeno of Elea': 0.01694915254237288,\n",
       " 'René Descartes': 0.3050847457627119,\n",
       " 'Benedict Spinoza': 0.3474576271186441,\n",
       " 'John Locke': 0.3728813559322034,\n",
       " 'Anne Conway': 0.1694915254237288,\n",
       " 'Gottfried Wilhelm Leibniz': 0.22033898305084745,\n",
       " 'George Berkeley': 0.11016949152542373,\n",
       " 'Francis Hutcheson': 0.11016949152542373,\n",
       " 'David Hume': 0.3220338983050847,\n",
       " 'Jean-Jacques Rousseau': 0.17796610169491525,\n",
       " 'Edmund Burke': 0.09322033898305085,\n",
       " 'Immanuel Kant': 0.4491525423728814,\n",
       " 'Jeremy Bentham': 0.07627118644067797,\n",
       " 'Mary Wollstonecraft': 0.09322033898305085,\n",
       " 'Johann Gottlieb Fichte': 0.11016949152542373,\n",
       " 'Friedrich Schelling': 0.1271186440677966,\n",
       " 'Georg Wilhelm Friedrich Hegel': 0.3220338983050847,\n",
       " 'Arthur Schopenhauer': 0.2627118644067797,\n",
       " 'Ludwig Feuerbach': 0.1440677966101695,\n",
       " 'John Stuart Mill': 0.17796610169491525,\n",
       " 'Charles Darwin': 0.2033898305084746,\n",
       " 'Søren Kierkegaard': 0.13559322033898305,\n",
       " 'Karl Marx': 0.2627118644067797,\n",
       " 'Charles Sanders Peirce': 0.1694915254237288,\n",
       " 'William James': 0.025423728813559324,\n",
       " 'Friedrich Nietzsche': 0.2288135593220339,\n",
       " 'Gottlob Frege': 0.06779661016949153,\n",
       " 'Sigmund Freud': 0.3728813559322034,\n",
       " 'Ferdinand de Saussure': 0.2288135593220339,\n",
       " 'Edmund Husserl': 0.07627118644067797,\n",
       " 'Henri Bergson': 0.13559322033898305,\n",
       " 'John Dewey': 0.16101694915254236,\n",
       " 'Pierre Duhem': 0.059322033898305086,\n",
       " 'Bertrand Russell': 0.1694915254237288,\n",
       " 'George Edward Moore': 0.0847457627118644,\n",
       " 'Ludwig Wittgenstein': 0.3898305084745763,\n",
       " 'Martin Heidegger': 0.15254237288135594,\n",
       " 'Georges Bataille': 0.1271186440677966,\n",
       " 'Rudolf Carnap': 0.11016949152542373,\n",
       " 'Carl Hempel': 0.07627118644067797,\n",
       " 'Karl Popper': 0.2033898305084746,\n",
       " 'Gilbert Ryle': 0.1694915254237288,\n",
       " 'Frank Ramsey': 0.00847457627118644,\n",
       " 'Jacques Lacan': 0.22033898305084745,\n",
       " 'Theodor Adorno': 0.3389830508474576,\n",
       " 'Hannah Arendt': 0.1864406779661017,\n",
       " 'Jean-Paul Sartre': 0.17796610169491525,\n",
       " 'Simone de Beauvoir': 0.1864406779661017,\n",
       " 'Albert Camus': 0.059322033898305086,\n",
       " 'Maurice Merleau-Ponty': 0.0423728813559322,\n",
       " 'Alfred Jules Ayer': 0.11016949152542373,\n",
       " 'John Langshaw Austin': 0.22033898305084745,\n",
       " 'Willard Van Orman Quine': 0.211864406779661,\n",
       " 'William Frankena': 0.0423728813559322,\n",
       " 'Wilfred Sellars': 0.11864406779661017,\n",
       " 'Sir Peter Strawson': 0.13559322033898305,\n",
       " 'Paul Grice': 0.0423728813559322,\n",
       " 'Elizabeth Anscombe': 0.1016949152542373,\n",
       " 'Peter Winch': 0.059322033898305086,\n",
       " 'Donald Davidson': 0.17796610169491525,\n",
       " 'Abraham Irving Melden': 0.025423728813559324,\n",
       " 'John Mackie': 0.059322033898305086,\n",
       " 'Richard Hare': 0.1271186440677966,\n",
       " 'Philippa Foot': 0.01694915254237288,\n",
       " 'John Rawls': 0.1271186440677966,\n",
       " 'Thomas Kuhn': 0.1694915254237288,\n",
       " 'Paul Feyerabend': 0.05084745762711865,\n",
       " 'Michel Foucault': 0.2033898305084746,\n",
       " 'Jean-François Lyotard': 0.1864406779661017,\n",
       " 'Michael Dummett': 0.09322033898305085,\n",
       " 'Hilary Putnam': 0.17796610169491525,\n",
       " 'Bernard Williams': 0.1271186440677966,\n",
       " 'Jean Baudrillard': 0.17796610169491525,\n",
       " 'Harry Frankfurt': 0.00847457627118644,\n",
       " 'Jacques Derrida': 0.1016949152542373,\n",
       " 'Richard Rorty': 0.11864406779661017,\n",
       " 'Luce Irigaray': 0.1864406779661017,\n",
       " 'John Searle': 0.1440677966101695,\n",
       " 'Jerry Fodor': 0.0847457627118644,\n",
       " 'Thomas Nagel': 0.06779661016949153,\n",
       " 'Sandra Harding': 0.025423728813559324,\n",
       " 'Carol Gilligan': 0.025423728813559324,\n",
       " 'Robert Nozick': 0.07627118644067797,\n",
       " 'Saul Kripke': 0.07627118644067797,\n",
       " 'Frank Jackson': 0.05084745762711865,\n",
       " 'David Lewis': 0.11016949152542373,\n",
       " 'John McDowell': 0.0847457627118644,\n",
       " 'Richard Boyd': 0.0423728813559322,\n",
       " 'Tim Scanlon': 0.0847457627118644,\n",
       " 'Richard Dawkins': 0.07627118644067797,\n",
       " 'Daniel Dennett': 0.4152542372881356,\n",
       " 'Simon Blackburn': 0.025423728813559324,\n",
       " 'Judith Butler': 0.16101694915254236,\n",
       " 'David Chalmers': 0.22033898305084745}"
      ]
     },
     "execution_count": 54,
     "metadata": {},
     "output_type": "execute_result"
    }
   ],
   "source": [
    "nx.degree_centrality(G)"
   ]
  },
  {
   "cell_type": "code",
   "execution_count": 56,
   "metadata": {},
   "outputs": [
    {
     "data": {
      "text/plain": [
       "['Plato',\n",
       " 'Immanuel Kant',\n",
       " 'Daniel Dennett',\n",
       " 'Ludwig Wittgenstein',\n",
       " 'Georg Wilhelm Friedrich Hegel',\n",
       " 'John Locke',\n",
       " 'Theodor Adorno',\n",
       " 'Sigmund Freud',\n",
       " 'Benedict Spinoza',\n",
       " 'David Hume',\n",
       " 'Jean-Paul Sartre',\n",
       " 'René Descartes',\n",
       " 'John Langshaw Austin',\n",
       " 'Thomas Kuhn',\n",
       " 'Willard Van Orman Quine',\n",
       " 'Aristotle',\n",
       " 'David Chalmers',\n",
       " 'Ferdinand de Saussure',\n",
       " 'Friedrich Nietzsche',\n",
       " 'Simone de Beauvoir',\n",
       " 'Charles Sanders Peirce',\n",
       " 'Thomas Hobbes',\n",
       " 'John Rawls',\n",
       " 'Karl Marx',\n",
       " 'Donald Davidson',\n",
       " 'John Stuart Mill',\n",
       " 'Elizabeth Anscombe',\n",
       " 'Karl Popper',\n",
       " 'Hilary Putnam',\n",
       " 'Charles Darwin',\n",
       " 'John McDowell',\n",
       " 'Richard Hare',\n",
       " 'Søren Kierkegaard',\n",
       " 'Gottfried Wilhelm Leibniz',\n",
       " 'Thomas Aquinas',\n",
       " 'Michel Foucault',\n",
       " 'John Searle',\n",
       " 'Bertrand Russell',\n",
       " 'Parmenides',\n",
       " 'George Edward Moore',\n",
       " 'Saint Augustine',\n",
       " 'Wilfred Sellars',\n",
       " 'Jean-François Lyotard',\n",
       " 'Johann Gottlieb Fichte',\n",
       " 'Luce Irigaray',\n",
       " 'Pyrrho',\n",
       " 'Epicurus',\n",
       " 'Arthur Schopenhauer',\n",
       " 'Bernard Williams',\n",
       " 'Martin Heidegger',\n",
       " 'Tim Scanlon',\n",
       " 'William of Ockham',\n",
       " 'Ludwig Feuerbach',\n",
       " 'Sir Peter Strawson',\n",
       " 'Anaximander',\n",
       " 'Jean-Jacques Rousseau',\n",
       " 'Socrates',\n",
       " 'Thomas Nagel',\n",
       " 'David Lewis',\n",
       " 'Edmund Burke',\n",
       " 'John Dewey',\n",
       " 'George Berkeley',\n",
       " 'Jacques Derrida',\n",
       " 'Jean Baudrillard',\n",
       " 'Carl Hempel',\n",
       " 'Pierre Duhem',\n",
       " 'Anne Conway',\n",
       " 'Hannah Arendt',\n",
       " 'Peter Winch',\n",
       " 'Friedrich Schelling',\n",
       " 'Edmund Husserl',\n",
       " 'John Mackie',\n",
       " 'Francis Hutcheson',\n",
       " 'Rudolf Carnap',\n",
       " 'Jacques Lacan']"
      ]
     },
     "execution_count": 56,
     "metadata": {},
     "output_type": "execute_result"
    }
   ],
   "source": [
    "nx.voterank(G)"
   ]
  },
  {
   "cell_type": "code",
   "execution_count": 58,
   "metadata": {},
   "outputs": [
    {
     "ename": "Exception",
     "evalue": "hits() not defined for graphs with multiedges.",
     "output_type": "error",
     "traceback": [
      "\u001b[0;31m---------------------------------------------------------------------------\u001b[0m",
      "\u001b[0;31mException\u001b[0m                                 Traceback (most recent call last)",
      "\u001b[0;32m<ipython-input-58-06cce4815bff>\u001b[0m in \u001b[0;36m<module>\u001b[0;34m\u001b[0m\n\u001b[0;32m----> 1\u001b[0;31m \u001b[0mhitsrank\u001b[0m \u001b[0;34m=\u001b[0m \u001b[0mnx\u001b[0m\u001b[0;34m.\u001b[0m\u001b[0mhits\u001b[0m\u001b[0;34m(\u001b[0m\u001b[0mG\u001b[0m\u001b[0;34m)\u001b[0m\u001b[0;34m[\u001b[0m\u001b[0;36m0\u001b[0m\u001b[0;34m]\u001b[0m\u001b[0;34m\u001b[0m\u001b[0;34m\u001b[0m\u001b[0m\n\u001b[0m\u001b[1;32m      2\u001b[0m \u001b[0mhitsrank_v\u001b[0m \u001b[0;34m=\u001b[0m \u001b[0;34m[\u001b[0m\u001b[0mv\u001b[0m \u001b[0;32mfor\u001b[0m \u001b[0mk\u001b[0m\u001b[0;34m,\u001b[0m \u001b[0mv\u001b[0m \u001b[0;32min\u001b[0m \u001b[0mhitsrank\u001b[0m\u001b[0;34m.\u001b[0m\u001b[0mitems\u001b[0m\u001b[0;34m(\u001b[0m\u001b[0;34m)\u001b[0m\u001b[0;34m]\u001b[0m\u001b[0;34m\u001b[0m\u001b[0;34m\u001b[0m\u001b[0m\n\u001b[1;32m      3\u001b[0m \u001b[0mhitsrank_k\u001b[0m \u001b[0;34m=\u001b[0m \u001b[0mnp\u001b[0m\u001b[0;34m.\u001b[0m\u001b[0marray\u001b[0m\u001b[0;34m(\u001b[0m\u001b[0;34m[\u001b[0m\u001b[0mk\u001b[0m \u001b[0;32mfor\u001b[0m \u001b[0mk\u001b[0m\u001b[0;34m,\u001b[0m \u001b[0mv\u001b[0m \u001b[0;32min\u001b[0m \u001b[0mhitsrank\u001b[0m\u001b[0;34m.\u001b[0m\u001b[0mitems\u001b[0m\u001b[0;34m(\u001b[0m\u001b[0;34m)\u001b[0m\u001b[0;34m]\u001b[0m\u001b[0;34m)\u001b[0m\u001b[0;34m\u001b[0m\u001b[0;34m\u001b[0m\u001b[0m\n\u001b[1;32m      4\u001b[0m \u001b[0mhitsrank\u001b[0m\u001b[0;34m=\u001b[0m\u001b[0mhitsrank_k\u001b[0m\u001b[0;34m[\u001b[0m\u001b[0mnp\u001b[0m\u001b[0;34m.\u001b[0m\u001b[0margsort\u001b[0m\u001b[0;34m(\u001b[0m\u001b[0mhitsrank_v\u001b[0m\u001b[0;34m)\u001b[0m\u001b[0;34m[\u001b[0m\u001b[0;34m-\u001b[0m\u001b[0;36m10\u001b[0m\u001b[0;34m:\u001b[0m\u001b[0;34m]\u001b[0m\u001b[0;34m]\u001b[0m\u001b[0;34m\u001b[0m\u001b[0;34m\u001b[0m\u001b[0m\n\u001b[1;32m      5\u001b[0m \u001b[0mhitsrank\u001b[0m\u001b[0;34m\u001b[0m\u001b[0;34m\u001b[0m\u001b[0m\n",
      "\u001b[0;32m~/anaconda3/lib/python3.8/site-packages/networkx/algorithms/link_analysis/hits_alg.py\u001b[0m in \u001b[0;36mhits\u001b[0;34m(G, max_iter, tol, nstart, normalized)\u001b[0m\n\u001b[1;32m     71\u001b[0m     \"\"\"\n\u001b[1;32m     72\u001b[0m     \u001b[0;32mif\u001b[0m \u001b[0mtype\u001b[0m\u001b[0;34m(\u001b[0m\u001b[0mG\u001b[0m\u001b[0;34m)\u001b[0m \u001b[0;34m==\u001b[0m \u001b[0mnx\u001b[0m\u001b[0;34m.\u001b[0m\u001b[0mMultiGraph\u001b[0m \u001b[0;32mor\u001b[0m \u001b[0mtype\u001b[0m\u001b[0;34m(\u001b[0m\u001b[0mG\u001b[0m\u001b[0;34m)\u001b[0m \u001b[0;34m==\u001b[0m \u001b[0mnx\u001b[0m\u001b[0;34m.\u001b[0m\u001b[0mMultiDiGraph\u001b[0m\u001b[0;34m:\u001b[0m\u001b[0;34m\u001b[0m\u001b[0;34m\u001b[0m\u001b[0m\n\u001b[0;32m---> 73\u001b[0;31m         \u001b[0;32mraise\u001b[0m \u001b[0mException\u001b[0m\u001b[0;34m(\u001b[0m\u001b[0;34m\"hits() not defined for graphs with multiedges.\"\u001b[0m\u001b[0;34m)\u001b[0m\u001b[0;34m\u001b[0m\u001b[0;34m\u001b[0m\u001b[0m\n\u001b[0m\u001b[1;32m     74\u001b[0m     \u001b[0;32mif\u001b[0m \u001b[0mlen\u001b[0m\u001b[0;34m(\u001b[0m\u001b[0mG\u001b[0m\u001b[0;34m)\u001b[0m \u001b[0;34m==\u001b[0m \u001b[0;36m0\u001b[0m\u001b[0;34m:\u001b[0m\u001b[0;34m\u001b[0m\u001b[0;34m\u001b[0m\u001b[0m\n\u001b[1;32m     75\u001b[0m         \u001b[0;32mreturn\u001b[0m \u001b[0;34m{\u001b[0m\u001b[0;34m}\u001b[0m\u001b[0;34m,\u001b[0m \u001b[0;34m{\u001b[0m\u001b[0;34m}\u001b[0m\u001b[0;34m\u001b[0m\u001b[0;34m\u001b[0m\u001b[0m\n",
      "\u001b[0;31mException\u001b[0m: hits() not defined for graphs with multiedges."
     ]
    }
   ],
   "source": [
    "hitsrank = nx.hits(G)[0]\n",
    "hitsrank_v = [v for k, v in hitsrank.items()]\n",
    "hitsrank_k = np.array([k for k, v in hitsrank.items()])\n",
    "hitsrank=hitsrank_k[np.argsort(hitsrank_v)[-10:]]\n",
    "hitsrank"
   ]
  },
  {
   "cell_type": "code",
   "execution_count": null,
   "metadata": {},
   "outputs": [],
   "source": [
    "pagerank = nx.pagerank(G)\n",
    "pagerank_v = [v for k, v in pagerank.items()]\n",
    "pagerank_k = np.array([k for k, v in pagerank.items()])\n",
    "pagerank=pagerank_k[np.argsort(pagerank_v)[-10:]]\n",
    "pagerank"
   ]
  },
  {
   "cell_type": "code",
   "execution_count": null,
   "metadata": {},
   "outputs": [],
   "source": [
    "np.intersect1d(hitsrank,pagerank)"
   ]
  },
  {
   "cell_type": "code",
   "execution_count": 62,
   "metadata": {},
   "outputs": [],
   "source": [
    "nx.write_graphml_lxml(G, \"philosophers.graphml\")  "
   ]
  },
  {
   "cell_type": "code",
   "execution_count": null,
   "metadata": {},
   "outputs": [],
   "source": []
  }
 ],
 "metadata": {
  "kernelspec": {
   "display_name": "Python 3",
   "language": "python",
   "name": "python3"
  },
  "language_info": {
   "codemirror_mode": {
    "name": "ipython",
    "version": 3
   },
   "file_extension": ".py",
   "mimetype": "text/x-python",
   "name": "python",
   "nbconvert_exporter": "python",
   "pygments_lexer": "ipython3",
   "version": "3.8.5"
  }
 },
 "nbformat": 4,
 "nbformat_minor": 4
}
